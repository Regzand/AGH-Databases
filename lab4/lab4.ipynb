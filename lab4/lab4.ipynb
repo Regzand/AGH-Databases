{
 "cells": [
  {
   "cell_type": "markdown",
   "metadata": {},
   "source": [
    "<center><h1>Laboratory 4 - MongoDB</h1><h5>Jan Gołda, 291431</h5></center>\n",
    "<br>"
   ]
  },
  {
   "cell_type": "markdown",
   "metadata": {},
   "source": [
    "# MongoDB Shell version\n",
    "---\n",
    "### Setup\n",
    "```\n",
    "> use jeopardy\n",
    "```"
   ]
  },
  {
   "cell_type": "markdown",
   "metadata": {},
   "source": [
    "### Query 1\n",
    "Quesions from rounds 'double' and 'final' in show number 2047, ordered by question value.  \n",
    "(ordered is lexicographical order, since given data is broken and sometimes uses \",\" ect.)  \n",
    "``` js\n",
    "db.question.find({\n",
    "    round: {\\$in: [\"Double Jeopardy!\", \"Final Jeopardy!\"]},\n",
    "    show_number: \"2047\"\n",
    "  }, {\n",
    "    value: 1,\n",
    "    question: 1,\n",
    "    answer: 1,\n",
    "    _id: 0\n",
    "}).sort({value: 1});\n",
    "```  \n",
    "\n",
    "Result example (31 objcts in total):\n",
    "```\n",
    "{ \"question\" : \"'The name of this river, famous in song, may be a corruption of the Spanish for \\\"little Saint John\\\"'\", \"value\" : null, \"answer\" : \"the Swanee\" }\n",
    "...\n",
    "```\n"
   ]
  },
  {
   "cell_type": "markdown",
   "metadata": {},
   "source": [
    "### Query 2\n",
    "List of questions values with their occurrence count, ordered (descending) by count.  \n",
    "``` js\n",
    "db.question.aggregate([\n",
    "  { \\$match: {show_number: \"2047\"} },\n",
    "  { \\$group: {_id: \"$value\", count: {$sum: 1}} },\n",
    "  { \\$sort: {count: -1} }\n",
    "]);\n",
    "```  \n",
    "\n",
    "Results:\n",
    "``` js\n",
    "{ \"_id\": \"\\$200\", \"count\": 12 }\n",
    "{ \"_id\": \"\\$400\", \"count\": 12 }\n",
    "{ \"_id\": \"\\$300\", \"count\": 6 }\n",
    "{ \"_id\": \"\\$100\", \"count\": 6 }\n",
    "{ \"_id\": \"\\$800\", \"count\": 6 }\n",
    "{ \"_id\": \"\\$500\", \"count\": 5 }\n",
    "{ \"_id\": \"\\$1000\", \"count\": 5 }\n",
    "{ \"_id\": \"\\$600\", \"count\": 5 }\n",
    "{ \"_id\": null, \"count\": 1 }\n",
    "{ \"_id\": \"\\$2,500\", \"count\": 1 }\n",
    "{ \"_id\": \"\\$1,500\", \"count\": 1 }\n",
    "{ \"_id\": \"\\$3,000\", \"count\": 1 }\n",
    "```"
   ]
  },
  {
   "cell_type": "markdown",
   "metadata": {},
   "source": [
    "### Query 3\n",
    "Counts of empty, one-word and many-words answers in Jeopardy history.  \n",
    "``` js\n",
    "db.question.mapReduce(\n",
    "  function() {\n",
    "    let words = this.answer.split(\" \").length;\n",
    "    \n",
    "    if(words == 0)\n",
    "      emit(\"empty\", 1);\n",
    "    if(words == 1)\n",
    "      emit(\"one_word\", 1);\n",
    "    if(words > 1)\n",
    "      emit(\"many_words\", 1);\n",
    "  },\n",
    "  function(key, values) { return Array.sum(values) },\n",
    "  {out: \"ans_query_3\"}\n",
    ");\n",
    "db.ans_query_3.find();\n",
    "```  \n",
    "\n",
    "Results:\n",
    "``` js\n",
    "{\n",
    "\t\"result\" : \"ans_query_3\",\n",
    "\t\"timeMillis\" : 2049,\n",
    "\t\"counts\" : {\n",
    "\t\t\"input\" : 216930,\n",
    "\t\t\"emit\" : 216930,\n",
    "\t\t\"reduce\" : 4340,\n",
    "\t\t\"output\" : 2\n",
    "\t},\n",
    "\t\"ok\" : 1\n",
    "}\n",
    "```\n",
    "``` js\n",
    "{ \"_id\" : \"many_words\", \"value\" : 124229 }\n",
    "{ \"_id\" : \"one_word\", \"value\" : 92701 }\n",
    "```"
   ]
  },
  {
   "cell_type": "markdown",
   "metadata": {},
   "source": [
    "# Python3 version\n",
    "---\n",
    "### Setup"
   ]
  },
  {
   "cell_type": "code",
   "execution_count": 1,
   "metadata": {},
   "outputs": [],
   "source": [
    "from pymongo import MongoClient\n",
    "from bson.code import Code\n",
    "\n",
    "client = MongoClient()\n",
    "question = client.jeopardy.question"
   ]
  },
  {
   "cell_type": "markdown",
   "metadata": {},
   "source": [
    "### Query 1\n",
    "Quesions from rounds 'double' and 'final' in show number 2047, ordered by question value.  \n",
    "(ordered is lexicographical order, since given data is broken and sometimes uses \",\" ect.) "
   ]
  },
  {
   "cell_type": "code",
   "execution_count": 2,
   "metadata": {},
   "outputs": [
    {
     "name": "stdout",
     "output_type": "stream",
     "text": [
      "None\t'The name of this river, famous in song,...\tthe Swanee\n",
      "$1000\t'This nucleic acid occurs in 3 forms: me...\tRNA\n",
      "$1000\t'First performed in 1905, this very shor...\tThe Dying Swan\n",
      "$1000\t'About 3000 B.S. the Sumerians invented ...\tcuneiform\n",
      "$1000\t'This somewhat coarse root vegetable is ...\ta rutabaga\n",
      "$1000\t'This chief once called \"The Apache Napo...\tCochise\n",
      "$2,500\t'He followed his first novel, \"Appointme...\tJohn O\\'Hara\n",
      "$200\t'In 1991 B.C. Amenemhet, a former vizier...\tEgypt\n",
      "$200\t'\"Homage to the Queen\", a tribute to her...\tElizabeth II\n",
      "$200\t'The summer varieties of this gourd-like...\tsquash\n",
      "$200\t'Unlike most birds, ratites like the ost...\tfly\n",
      "$200\t'This novelist's youthful voyages provid...\tConrad\n",
      "$200\t'In 1777 Chief Joseph Brant led his fell...\tthe Revolutionary War\n",
      "$3,000\t'In 1919 this national assembly met in t...\tWeimar\n",
      "$400\t'Because his proposals for constitutiona...\tCharles de Gaulle\n",
      "$400\t'This dancer choreographed a new version...\tBaryshnikov\n",
      "$400\t'A woman claiming to be this Lewis & Cla...\tSacagawea\n",
      "$400\t'Associated with this sense, the olfacto...\tsmell\n",
      "$400\t'This fruit with many seeds is grown on ...\ta pomegranate\n",
      "$400\t'He dictated his last novel, \"The Brothe...\tDostoevsky\n",
      "$600\t'The School of American Ballet is the of...\tNew York (City Ballet)\n",
      "$600\t'Renin, an enzyme that breaks down prote...\tthe kidney\n",
      "$600\t'This Scottish novelist is buried at the...\tRobert Louis Stevenson\n",
      "$600\t'Poi, a luau treat, is made from these m...\ttaro\n",
      "$600\t'Geronimo rode in this U.S. president's ...\tTheodore Roosevelt\n",
      "$800\t'The parents of this Peruvian president ...\tFujimori\n",
      "$800\t'This Spanish seducer is attacked by fur...\tDon Juan\n",
      "$800\t'Common \"colorful\" term for the eythrocy...\tthe red blood cells\n",
      "$800\t'A greengage is a plum & a greening is t...\tan apple\n",
      "$800\t'This novelist's nonfiction book \"Miami ...\tNorman Mailer\n",
      "$800\t'When this chief, Pocahontas' father, di...\tPowhatan\n"
     ]
    }
   ],
   "source": [
    "result = question.find({\n",
    "    \"round\": {\"$in\": [\"Double Jeopardy!\", \"Final Jeopardy!\"]},\n",
    "    \"show_number\": \"2047\"\n",
    "  }, {\n",
    "    \"value\": 1,\n",
    "    \"question\": 1,\n",
    "    \"answer\": 1,\n",
    "    \"_id\": 0\n",
    "  }).sort(\"value\")\n",
    "\n",
    "for q in result:\n",
    "  print(\"{value}\\t{question:.40}...\\t{answer}\".format(**q))"
   ]
  },
  {
   "cell_type": "markdown",
   "metadata": {},
   "source": [
    "### Query 2\n",
    "List of questions values with their occurrence count, ordered (descending) by count.  "
   ]
  },
  {
   "cell_type": "code",
   "execution_count": 3,
   "metadata": {},
   "outputs": [
    {
     "name": "stdout",
     "output_type": "stream",
     "text": [
      "$200\tx12\n",
      "$400\tx12\n",
      "$300\tx6\n",
      "$100\tx6\n",
      "$800\tx6\n",
      "$500\tx5\n",
      "$1000\tx5\n",
      "$600\tx5\n",
      "None\tx1\n",
      "$2,500\tx1\n",
      "$1,500\tx1\n",
      "$3,000\tx1\n"
     ]
    }
   ],
   "source": [
    "result = question.aggregate([\n",
    "    { \"$match\": {\"show_number\": \"2047\"} },\n",
    "    { \"$group\": {\"_id\": \"$value\", \"count\": {\"$sum\": 1}} },\n",
    "    { \"$sort\": {\"count\": -1} }\n",
    "  ])\n",
    "\n",
    "for q in result:\n",
    "  print(\"{_id}\\tx{count}\".format(**q))"
   ]
  },
  {
   "cell_type": "markdown",
   "metadata": {},
   "source": [
    "### Query 3\n",
    "Counts of empty, one-word and many-words answers in Jeopardy history.  "
   ]
  },
  {
   "cell_type": "code",
   "execution_count": 4,
   "metadata": {},
   "outputs": [],
   "source": [
    "query_map = Code(\"\"\"\n",
    "  function() {\n",
    "    let words = this.answer.split(\" \").length;\n",
    "    \n",
    "    if(words == 0)\n",
    "      emit(\"empty\", 1);\n",
    "    if(words == 1)\n",
    "      emit(\"one_word\", 1);\n",
    "    if(words > 1)\n",
    "      emit(\"many_words\", 1);\n",
    "  }\n",
    "\"\"\")"
   ]
  },
  {
   "cell_type": "code",
   "execution_count": 5,
   "metadata": {},
   "outputs": [],
   "source": [
    "query_reduce = Code(\"function(key, values) { return Array.sum(values) }\")"
   ]
  },
  {
   "cell_type": "code",
   "execution_count": 6,
   "metadata": {},
   "outputs": [
    {
     "name": "stdout",
     "output_type": "stream",
     "text": [
      "many_words\tx124229\n",
      "one_word\tx92701\n"
     ]
    }
   ],
   "source": [
    "result = question.map_reduce(query_map, query_reduce, \"ans_query_3\")\n",
    "\n",
    "for q in result.find():\n",
    "  print(\"{_id}\\tx{value:.0f}\".format(**q))"
   ]
  },
  {
   "cell_type": "markdown",
   "metadata": {},
   "source": [
    "### Cleanup"
   ]
  },
  {
   "cell_type": "code",
   "execution_count": 7,
   "metadata": {},
   "outputs": [],
   "source": [
    "client.close()"
   ]
  },
  {
   "cell_type": "markdown",
   "metadata": {},
   "source": [
    "<span style=\"float: right\">Jan Gołda, 291431</span>"
   ]
  }
 ],
 "metadata": {
  "kernelspec": {
   "display_name": "Python 3",
   "language": "python",
   "name": "python3"
  },
  "language_info": {
   "codemirror_mode": {
    "name": "ipython",
    "version": 3
   },
   "file_extension": ".py",
   "mimetype": "text/x-python",
   "name": "python",
   "nbconvert_exporter": "python",
   "pygments_lexer": "ipython3",
   "version": "3.6.7"
  }
 },
 "nbformat": 4,
 "nbformat_minor": 2
}
